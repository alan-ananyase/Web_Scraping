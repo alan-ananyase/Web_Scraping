{
 "cells": [
  {
   "cell_type": "code",
   "execution_count": 1,
   "metadata": {},
   "outputs": [],
   "source": [
    "# !pip install selenium # Install Selenium"
   ]
  },
  {
   "cell_type": "code",
   "execution_count": 2,
   "metadata": {},
   "outputs": [],
   "source": [
    "from selenium import webdriver\n",
    "import os"
   ]
  },
  {
   "cell_type": "markdown",
   "metadata": {},
   "source": [
    "1. Download chrome-webdriver (based on installed chrome brower version) from http://chromedriver.chromium.org/downloads\n",
    "2. No need to install the executable file.\n",
    "3. Save the .exe file in the python project folder."
   ]
  },
  {
   "cell_type": "code",
   "execution_count": 3,
   "metadata": {},
   "outputs": [],
   "source": [
    "# Run webdriver for Chrome\n",
    "driver = webdriver.Chrome('chromedriver.exe') # This will open an automated Chrome Browser window. DON'T close it."
   ]
  },
  {
   "cell_type": "code",
   "execution_count": 4,
   "metadata": {},
   "outputs": [],
   "source": [
    "# Load the website to scrap. This will load the website in the automated window. DON'T manually change the website on the browser URL.\n",
    "driver.get('https://www.amazon.com/s?i=fashion-mens-intl-ship&bbn=16225019011&rh=n%3A16225019011%2Cn%3A1040658%2Cn%3A2476517011&dc&qid=1596367299&rnid=1040658&ref=sr_nr_n_1')"
   ]
  },
  {
   "cell_type": "markdown",
   "metadata": {},
   "source": [
    "## Step 2: Making the directory to store images"
   ]
  },
  {
   "cell_type": "code",
   "execution_count": 5,
   "metadata": {},
   "outputs": [],
   "source": [
    "#Optional Step\n",
    "def make_directory(dirname):\n",
    "    current_path = os.getcwd()\n",
    "    path = os.path.join(current_path, dirname)\n",
    "    if not os.path.exists(path):\n",
    "        os.makedirs(path)"
   ]
  },
  {
   "cell_type": "code",
   "execution_count": 6,
   "metadata": {},
   "outputs": [],
   "source": [
    "make_directory('Men Tshirts')"
   ]
  },
  {
   "cell_type": "markdown",
   "metadata": {},
   "source": [
    "## Step 3: Scraping URLs of images, brands and prices"
   ]
  },
  {
   "cell_type": "code",
   "execution_count": 7,
   "metadata": {},
   "outputs": [],
   "source": [
    "images = driver.find_elements_by_xpath(\"//img[@class='s-image']\")\n",
    "prices = driver.find_elements_by_xpath(\"//span[@class='a-price-whole']\")"
   ]
  },
  {
   "cell_type": "code",
   "execution_count": 8,
   "metadata": {},
   "outputs": [
    {
     "name": "stdout",
     "output_type": "stream",
     "text": [
      "48 47\n"
     ]
    }
   ],
   "source": [
    "print(len(images), len(prices))"
   ]
  },
  {
   "cell_type": "code",
   "execution_count": 9,
   "metadata": {},
   "outputs": [
    {
     "data": {
      "text/plain": [
       "<selenium.webdriver.remote.webelement.WebElement (session=\"3fc5ab64c2d689bafd94c893ecdeec79\", element=\"61a99963-cbd0-46a6-906d-2c8a392466ab\")>"
      ]
     },
     "execution_count": 9,
     "metadata": {},
     "output_type": "execute_result"
    }
   ],
   "source": [
    "images[0]"
   ]
  },
  {
   "cell_type": "code",
   "execution_count": 10,
   "metadata": {
    "collapsed": true
   },
   "outputs": [
    {
     "name": "stdout",
     "output_type": "stream",
     "text": [
      "https://m.media-amazon.com/images/I/71fJ40PsdnL._AC_UL320_.jpg\n",
      "https://m.media-amazon.com/images/I/71FKlHTAOuL._AC_UL320_.jpg\n",
      "https://m.media-amazon.com/images/I/91mXYoH01EL._AC_UL320_.jpg\n",
      "https://m.media-amazon.com/images/I/71TKvP4nyGL._AC_UL320_.jpg\n",
      "https://m.media-amazon.com/images/I/61uwkstVWWL._AC_UL320_.jpg\n",
      "https://m.media-amazon.com/images/I/81dbxvzgDWL._AC_UL320_.jpg\n",
      "https://m.media-amazon.com/images/I/71uefdriVEL._AC_UL320_.jpg\n",
      "https://m.media-amazon.com/images/I/91DhK1S9KqL._AC_UL320_.jpg\n",
      "https://m.media-amazon.com/images/I/71Svz58xiVL._AC_UL320_.jpg\n",
      "https://m.media-amazon.com/images/I/714kl5Xu-YL._AC_UL320_.jpg\n",
      "https://m.media-amazon.com/images/I/81bVePFUyzL._AC_UL320_.jpg\n",
      "https://m.media-amazon.com/images/I/71uefdriVEL._AC_UL320_.jpg\n",
      "https://m.media-amazon.com/images/I/71HuLCyNNhL._AC_UL320_.jpg\n",
      "https://m.media-amazon.com/images/I/81woNVByHSL._AC_UL320_.jpg\n",
      "https://m.media-amazon.com/images/I/71Owur1oEQL._AC_UL320_.jpg\n",
      "https://m.media-amazon.com/images/I/81jjNlioQIL._AC_UL320_.jpg\n",
      "https://m.media-amazon.com/images/I/81CGHD-gWPL._AC_UL320_.jpg\n",
      "https://m.media-amazon.com/images/I/81stVBgPmmL._AC_UL320_.jpg\n",
      "https://m.media-amazon.com/images/I/81LMcYAdVPL._AC_UL320_.jpg\n",
      "https://m.media-amazon.com/images/I/817nK+cotjL._AC_UL320_.jpg\n",
      "https://m.media-amazon.com/images/I/9156HfpWSjL._AC_UL320_.jpg\n",
      "https://m.media-amazon.com/images/I/71tvokdNjFL._AC_UL320_.jpg\n",
      "https://m.media-amazon.com/images/I/91Bab4-HcNL._AC_UL320_.jpg\n",
      "https://m.media-amazon.com/images/I/61zT1SR09CL._AC_UL320_.jpg\n",
      "https://m.media-amazon.com/images/I/A1Qw0o0+8LL._AC_UL320_.jpg\n",
      "https://m.media-amazon.com/images/I/81oizu4fF1L._AC_UL320_.jpg\n",
      "https://m.media-amazon.com/images/I/A1IsnsD9d8L._AC_UL320_.jpg\n",
      "https://m.media-amazon.com/images/I/71d-Z1KoolL._AC_UL320_.jpg\n",
      "https://m.media-amazon.com/images/I/61utt-r+ilL._AC_UL320_.jpg\n",
      "https://m.media-amazon.com/images/I/71tj4ZvZmuL._AC_UL320_.jpg\n",
      "https://m.media-amazon.com/images/I/A1eXqlNfZaL._AC_UL320_.jpg\n",
      "https://m.media-amazon.com/images/I/91Vym7H9WXL._AC_UL320_.jpg\n",
      "https://m.media-amazon.com/images/I/816qfOtPigL._AC_UL320_.jpg\n",
      "https://m.media-amazon.com/images/I/81BK0ERMXFL._AC_UL320_.jpg\n",
      "https://m.media-amazon.com/images/I/A13Ysvj37jL._AC_UL320_.jpg\n",
      "https://m.media-amazon.com/images/I/81yFyWFICqL._AC_UL320_.jpg\n",
      "https://m.media-amazon.com/images/I/71d-Z1KoolL._AC_UL320_.jpg\n",
      "https://m.media-amazon.com/images/I/817gVx6ekCL._AC_UL320_.jpg\n",
      "https://m.media-amazon.com/images/I/81JAVQV6foL._AC_UL320_.jpg\n",
      "https://m.media-amazon.com/images/I/8154KbSiq3L._AC_UL320_.jpg\n",
      "https://m.media-amazon.com/images/I/61YsZXe9C5L._AC_UL320_.jpg\n",
      "https://m.media-amazon.com/images/I/81joDgS-UnL._AC_UL320_.jpg\n",
      "https://m.media-amazon.com/images/I/71DyLTZdR+L._AC_UL320_.jpg\n",
      "https://m.media-amazon.com/images/I/81VXyf5X7dL._AC_UL320_.jpg\n",
      "https://m.media-amazon.com/images/I/71PmTjCWodL._AC_UL320_.jpg\n",
      "https://m.media-amazon.com/images/I/71-JPOcYQiL._AC_UL320_.jpg\n",
      "https://m.media-amazon.com/images/I/713VPdTx06L._AC_UL320_.jpg\n",
      "https://m.media-amazon.com/images/I/51I+pTmFEvL._AC_UL320_.jpg\n"
     ]
    }
   ],
   "source": [
    "# Extract URLs\n",
    "urls = []\n",
    "for image in images:\n",
    "    source = image.get_attribute('src')\n",
    "    urls.append(source)\n",
    "    print(source)"
   ]
  },
  {
   "cell_type": "code",
   "execution_count": 11,
   "metadata": {},
   "outputs": [
    {
     "data": {
      "text/plain": [
       "48"
      ]
     },
     "execution_count": 11,
     "metadata": {},
     "output_type": "execute_result"
    }
   ],
   "source": [
    "len(urls)"
   ]
  },
  {
   "cell_type": "markdown",
   "metadata": {},
   "source": [
    "## Step 4: Using URLs to download images"
   ]
  },
  {
   "cell_type": "code",
   "execution_count": 12,
   "metadata": {},
   "outputs": [],
   "source": [
    "import shutil\n",
    "import requests"
   ]
  },
  {
   "cell_type": "code",
   "execution_count": 13,
   "metadata": {
    "collapsed": true
   },
   "outputs": [
    {
     "name": "stdout",
     "output_type": "stream",
     "text": [
      "Downloading 1 of 48 images from page 1\n",
      "Downloading 2 of 48 images from page 1\n",
      "Downloading 3 of 48 images from page 1\n",
      "Downloading 4 of 48 images from page 1\n",
      "Downloading 5 of 48 images from page 1\n",
      "Downloading 6 of 48 images from page 1\n",
      "Downloading 7 of 48 images from page 1\n",
      "Downloading 8 of 48 images from page 1\n",
      "Downloading 9 of 48 images from page 1\n",
      "Downloading 10 of 48 images from page 1\n",
      "Downloading 11 of 48 images from page 1\n",
      "Downloading 12 of 48 images from page 1\n",
      "Downloading 13 of 48 images from page 1\n",
      "Downloading 14 of 48 images from page 1\n",
      "Downloading 15 of 48 images from page 1\n",
      "Downloading 16 of 48 images from page 1\n",
      "Downloading 17 of 48 images from page 1\n",
      "Downloading 18 of 48 images from page 1\n",
      "Downloading 19 of 48 images from page 1\n",
      "Downloading 20 of 48 images from page 1\n",
      "Downloading 21 of 48 images from page 1\n",
      "Downloading 22 of 48 images from page 1\n",
      "Downloading 23 of 48 images from page 1\n",
      "Downloading 24 of 48 images from page 1\n",
      "Downloading 25 of 48 images from page 1\n",
      "Downloading 26 of 48 images from page 1\n",
      "Downloading 27 of 48 images from page 1\n",
      "Downloading 28 of 48 images from page 1\n",
      "Downloading 29 of 48 images from page 1\n",
      "Downloading 30 of 48 images from page 1\n",
      "Downloading 31 of 48 images from page 1\n",
      "Downloading 32 of 48 images from page 1\n",
      "Downloading 33 of 48 images from page 1\n",
      "Downloading 34 of 48 images from page 1\n",
      "Downloading 35 of 48 images from page 1\n",
      "Downloading 36 of 48 images from page 1\n",
      "Downloading 37 of 48 images from page 1\n",
      "Downloading 38 of 48 images from page 1\n",
      "Downloading 39 of 48 images from page 1\n",
      "Downloading 40 of 48 images from page 1\n",
      "Downloading 41 of 48 images from page 1\n",
      "Downloading 42 of 48 images from page 1\n",
      "Downloading 43 of 48 images from page 1\n",
      "Downloading 44 of 48 images from page 1\n",
      "Downloading 45 of 48 images from page 1\n",
      "Downloading 46 of 48 images from page 1\n",
      "Downloading 47 of 48 images from page 1\n",
      "Downloading 48 of 48 images from page 1\n"
     ]
    }
   ],
   "source": [
    "page = 1\n",
    "for index, link in enumerate(urls):\n",
    "    print(\"Downloading {0} of {1} images from page 1\".format(index+1, len(urls)))\n",
    "    response = requests.get(link)\n",
    "    with open('Men Tshirts/img_{0}{1}.jpeg'.format(index, page), \"wb\") as file:\n",
    "        file.write(response.content)"
   ]
  },
  {
   "cell_type": "code",
   "execution_count": 14,
   "metadata": {},
   "outputs": [],
   "source": [
    "product_data = {}\n",
    "product_data['prices'] = []"
   ]
  },
  {
   "cell_type": "code",
   "execution_count": 15,
   "metadata": {},
   "outputs": [
    {
     "data": {
      "text/plain": [
       "47"
      ]
     },
     "execution_count": 15,
     "metadata": {},
     "output_type": "execute_result"
    }
   ],
   "source": [
    "for price in prices:\n",
    "    product_data['prices'].append(price.text) # .text will help us to extract values between the tags\n",
    "len(product_data['prices'])"
   ]
  },
  {
   "cell_type": "code",
   "execution_count": 16,
   "metadata": {
    "collapsed": true
   },
   "outputs": [
    {
     "data": {
      "text/plain": [
       "{'prices': ['15',\n",
       "  '16',\n",
       "  '4',\n",
       "  '36',\n",
       "  '32',\n",
       "  '16',\n",
       "  '39',\n",
       "  '15',\n",
       "  '11',\n",
       "  '23',\n",
       "  '14',\n",
       "  '39',\n",
       "  '9',\n",
       "  '16',\n",
       "  '10',\n",
       "  '37',\n",
       "  '14',\n",
       "  '18',\n",
       "  '14',\n",
       "  '15',\n",
       "  '12',\n",
       "  '9',\n",
       "  '19',\n",
       "  '32',\n",
       "  '18',\n",
       "  '29',\n",
       "  '15',\n",
       "  '6',\n",
       "  '36',\n",
       "  '45',\n",
       "  '15',\n",
       "  '29',\n",
       "  '15',\n",
       "  '26',\n",
       "  '20',\n",
       "  '14',\n",
       "  '6',\n",
       "  '8',\n",
       "  '23',\n",
       "  '11',\n",
       "  '13',\n",
       "  '23',\n",
       "  '36',\n",
       "  '46',\n",
       "  '8',\n",
       "  '10',\n",
       "  '10']}"
      ]
     },
     "execution_count": 16,
     "metadata": {},
     "output_type": "execute_result"
    }
   ],
   "source": [
    "product_data"
   ]
  },
  {
   "cell_type": "markdown",
   "metadata": {},
   "source": [
    "## Step 5: Move to the next page"
   ]
  },
  {
   "cell_type": "code",
   "execution_count": 17,
   "metadata": {},
   "outputs": [],
   "source": [
    "next_page = driver.find_element_by_xpath(\"//li[@class='a-last']//a\").click()"
   ]
  },
  {
   "cell_type": "code",
   "execution_count": 18,
   "metadata": {},
   "outputs": [],
   "source": [
    "images = driver.find_elements_by_xpath(\"//img[@class='s-image']\")\n",
    "prices = driver.find_elements_by_xpath(\"//span[@class='a-price-whole']\")"
   ]
  },
  {
   "cell_type": "code",
   "execution_count": 19,
   "metadata": {},
   "outputs": [
    {
     "name": "stdout",
     "output_type": "stream",
     "text": [
      "0 0\n"
     ]
    }
   ],
   "source": [
    "print(len(images), len(prices))"
   ]
  },
  {
   "cell_type": "code",
   "execution_count": 20,
   "metadata": {},
   "outputs": [],
   "source": [
    "# Extract URLs\n",
    "urls = []\n",
    "for image in images:\n",
    "    source = image.get_attribute('src')\n",
    "    urls.append(source)\n",
    "    print(source)"
   ]
  },
  {
   "cell_type": "code",
   "execution_count": 21,
   "metadata": {},
   "outputs": [
    {
     "data": {
      "text/plain": [
       "0"
      ]
     },
     "execution_count": 21,
     "metadata": {},
     "output_type": "execute_result"
    }
   ],
   "source": [
    "len(urls)"
   ]
  },
  {
   "cell_type": "code",
   "execution_count": 22,
   "metadata": {},
   "outputs": [],
   "source": [
    "# Changing page = 2\n",
    "page = 2\n",
    "for index, link in enumerate(urls):\n",
    "    print(\"Downloading {0} of {1} images from page 2\".format(index+1, len(urls)))\n",
    "    response = requests.get(link)\n",
    "    with open('Men Tshirts/img_{0}{1}.jpeg'.format(index, page), \"wb\") as file:\n",
    "        file.write(response.content)"
   ]
  },
  {
   "cell_type": "code",
   "execution_count": 23,
   "metadata": {},
   "outputs": [
    {
     "data": {
      "text/plain": [
       "47"
      ]
     },
     "execution_count": 23,
     "metadata": {},
     "output_type": "execute_result"
    }
   ],
   "source": [
    "for price in prices:\n",
    "    product_data['prices'].append(price.text) # .text will help us to extract values between the tags\n",
    "len(product_data['prices'])"
   ]
  },
  {
   "cell_type": "code",
   "execution_count": 24,
   "metadata": {},
   "outputs": [],
   "source": [
    "# Svae in csv\n",
    "import pandas as pd\n",
    "\n",
    "df=pd.DataFrame(product_data)\n",
    "df.to_csv('product_data.csv', mode='a', encoding='utf-8-sig') # mode='a' is to open the file in append mode"
   ]
  }
 ],
 "metadata": {
  "kernelspec": {
   "display_name": "Python 3",
   "language": "python",
   "name": "python3"
  },
  "language_info": {
   "codemirror_mode": {
    "name": "ipython",
    "version": 3
   },
   "file_extension": ".py",
   "mimetype": "text/x-python",
   "name": "python",
   "nbconvert_exporter": "python",
   "pygments_lexer": "ipython3",
   "version": "3.7.4"
  }
 },
 "nbformat": 4,
 "nbformat_minor": 2
}
